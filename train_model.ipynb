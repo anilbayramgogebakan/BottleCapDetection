{
  "cells": [
    {
      "cell_type": "code",
      "execution_count": null,
      "metadata": {},
      "outputs": [],
      "source": [
        "# Note that this script used on Google Colab. For other environments, some modifications might be required."
      ]
    },
    {
      "cell_type": "code",
      "execution_count": null,
      "metadata": {
        "id": "kB3bmc1mrhUD"
      },
      "outputs": [],
      "source": [
        "!nvidia-smi"
      ]
    },
    {
      "cell_type": "code",
      "execution_count": null,
      "metadata": {
        "id": "DAiInVOirqVw"
      },
      "outputs": [],
      "source": [
        "import os\n",
        "from google.colab import drive\n",
        "drive.mount('/content/drive')\n",
        "\n"
      ]
    },
    {
      "cell_type": "code",
      "execution_count": null,
      "metadata": {
        "id": "op06uAfWM84j"
      },
      "outputs": [],
      "source": [
        "# prompt: I want to mount it to my google drive\n",
        "\n",
        "runtime = os.getcwd()\n",
        "HOME = os.path.join(runtime, \"drive\", \"MyDrive\", \"BottleCap\")\n",
        "print(HOME)\n",
        "\n"
      ]
    },
    {
      "cell_type": "code",
      "execution_count": null,
      "metadata": {
        "id": "-utGLJZvrsDH"
      },
      "outputs": [],
      "source": [
        "\n",
        "!pip install ultralytics -q\n",
        "\n",
        "from IPython import display\n",
        "\n",
        "display.clear_output()\n",
        "\n",
        "import ultralytics\n",
        "ultralytics.checks()\n",
        "\n",
        "from ultralytics import YOLO\n",
        "from IPython.display import display, Image"
      ]
    },
    {
      "cell_type": "code",
      "execution_count": null,
      "metadata": {
        "id": "onBMCQ2qrx8v"
      },
      "outputs": [],
      "source": [
        "!mkdir -p {HOME}/datasets\n",
        "%cd {HOME}/datasets\n",
        "\n",
        "!pip install roboflow\n",
        "\n",
        "from roboflow import Roboflow\n",
        "rf = Roboflow(api_key=\"YOUR API KEY\")\n",
        "project = rf.workspace(\"anil-bayram\").project(\"bottle_cap-wvfkb\")\n",
        "version = project.version(3)\n",
        "dataset = version.download(\"yolov11\")\n",
        "\n",
        "\n"
      ]
    },
    {
      "cell_type": "code",
      "execution_count": null,
      "metadata": {
        "id": "R9lYJygAz5xp"
      },
      "outputs": [],
      "source": [
        "# # prompt: I want to delete runs folder. Note that it is not empty\n",
        "\n",
        "# import shutil\n",
        "# import os\n",
        "\n",
        "\n",
        "# delete_dir = '/content/drive/MyDrive/BottleCap/models/yolo11m.pt'\n",
        "# if os.path.exists(delete_dir):\n",
        "#     try:\n",
        "#         shutil.rmtree(delete_dir)\n",
        "#         print(f\"Successfully deleted '{delete_dir}' folder and its contents.\")\n",
        "#     except OSError as e:\n",
        "#         print(f\"Error deleting '{delete_dir}': {e}\")\n",
        "# else:\n",
        "#     print(f\"'{delete_dir}' folder does not exist.\")"
      ]
    },
    {
      "cell_type": "code",
      "execution_count": null,
      "metadata": {
        "id": "-Qi5q7I9N-3R"
      },
      "outputs": [],
      "source": [
        "# prompt: Create a folder inside a HOME whose name is models\n",
        "import os\n",
        "\n",
        "models_dir = os.path.join(HOME, \"models_cap2\")\n",
        "\n",
        "# Create the models directory if it doesn't exist\n",
        "os.makedirs(models_dir, exist_ok=True)"
      ]
    },
    {
      "cell_type": "code",
      "execution_count": null,
      "metadata": {
        "id": "oqRwuyAZOgwO"
      },
      "outputs": [],
      "source": [
        "model_name = 'yolo11s.pt'\n",
        "model_dir = os.path.join(models_dir, model_name)\n",
        "os.makedirs(model_dir, exist_ok=True)\n",
        "%cd {model_dir}\n",
        "!yolo task=detect mode=train model={model_name} data={dataset.location}/data.yaml epochs=100 imgsz=640 plots=True device=cuda batch=32"
      ]
    },
    {
      "cell_type": "code",
      "execution_count": null,
      "metadata": {
        "id": "qLoqYS0WFLYv"
      },
      "outputs": [],
      "source": [
        "%cd {model_dir}\n",
        "Image(filename=f'{model_dir}/runs/detect/train/confusion_matrix.png', width=600)"
      ]
    },
    {
      "cell_type": "code",
      "execution_count": null,
      "metadata": {
        "id": "-YbogmhBGOEU"
      },
      "outputs": [],
      "source": [
        "%cd {model_dir}\n",
        "Image(filename=f'{model_dir}/runs/detect/train/results.png', width=600)"
      ]
    },
    {
      "cell_type": "code",
      "execution_count": null,
      "metadata": {
        "id": "ciZZQlsEIyLE"
      },
      "outputs": [],
      "source": [
        "%cd {model_dir}\n",
        "!yolo task=detect mode=predict model={model_dir}/runs/detect/train/weights/best.pt conf=0.6 source={dataset.location}/test/images save=True"
      ]
    },
    {
      "cell_type": "code",
      "execution_count": null,
      "metadata": {
        "id": "v2_UG_M6I_BF"
      },
      "outputs": [],
      "source": [
        "import glob\n",
        "from IPython.display import Image, display\n",
        "\n",
        "# Define the base path where the folders are located\n",
        "base_path = os.path.join(model_dir, 'runs','detect')\n",
        "\n",
        "# List all directories that start with 'predict' in the base path\n",
        "subfolders = [os.path.join(base_path, d) for d in os.listdir(base_path)\n",
        "              if os.path.isdir(os.path.join(base_path, d)) and d.startswith('predict')]\n",
        "\n",
        "# Find the latest folder by modification time\n",
        "latest_folder = max(subfolders, key=os.path.getmtime)\n",
        "\n",
        "image_paths = glob.glob(f'{latest_folder}/*.jpg')[:]\n",
        "\n",
        "# Display each image\n",
        "for image_path in image_paths:\n",
        "    display(Image(filename=image_path, width=600))\n",
        "    print(\"\\n\")"
      ]
    },
    {
      "cell_type": "code",
      "execution_count": null,
      "metadata": {
        "id": "2_yH8Wpp_3RX"
      },
      "outputs": [],
      "source": [
        "%cd {model_dir}\n",
        "!yolo task=detect mode=val model={model_dir}/runs/detect/train/weights/best.pt data={dataset.location}/my_data.yaml"
      ]
    }
  ],
  "metadata": {
    "accelerator": "GPU",
    "colab": {
      "gpuType": "T4",
      "provenance": []
    },
    "kernelspec": {
      "display_name": "Python 3",
      "name": "python3"
    },
    "language_info": {
      "name": "python"
    }
  },
  "nbformat": 4,
  "nbformat_minor": 0
}
